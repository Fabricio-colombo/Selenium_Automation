{
 "cells": [
  {
   "cell_type": "code",
   "execution_count": 7,
   "metadata": {},
   "outputs": [
    {
     "name": "stdout",
     "output_type": "stream",
     "text": [
      "https://g1.globo.com/politica/blog/julia-duailibi/post/2024/01/29/operacao-carlos-bolsonaro-decisao.ghtml\n",
      "https://oglobo.globo.com/blogs/bela-megale/post/2024/01/pf-apreende-celular-de-carlos-bolsonaro-e-tres-computadores-na-casa-de-angra.ghtml\n",
      "https://g1.globo.com/politica/blog/valdo-cruz/post/2024/01/29/operacao-da-pf-pode-provar-o-poder-de-carlos-na-gestao-bolsonaro-e-complicar-situacao-de-ex-presidente.ghtml\n",
      "https://g1.globo.com/politica/blog/daniela-lima/post/2024/01/29/operacao-da-pf-carlos-bolsonaro-angra.ghtml\n",
      "https://oglobo.globo.com/politica/noticia/2024/01/29/assessor-diz-que-bolsonaro-teria-saido-para-pescar-com-filhos-antes-de-operacao-da-pf.ghtml\n",
      "https://g1.globo.com/politica/blog/daniela-lima/post/2024/01/29/operacao-da-pf-carlos-bolsonaro-angra.ghtml\n",
      "https://g1.globo.com/politica/blog/daniela-lima/post/2024/01/29/computador-da-abin-e-apreendido-com-carlos-bolsonaro.ghtml\n",
      "https://g1.globo.com/politica/blog/andreia-sadi/post/2024/01/29/policia-federal-chamara-carlos-bolsonaro-para-depor-sobre-abin-paralela.ghtml\n"
     ]
    }
   ],
   "source": [
    "from selenium import webdriver\n",
    "from selenium.webdriver.common.by import By\n",
    "from selenium.webdriver.support.ui import WebDriverWait\n",
    "from selenium.webdriver.support import expected_conditions as EC\n",
    "\n",
    "# Initialize the Chrome driver\n",
    "driver = webdriver.Chrome()\n",
    "\n",
    "# Open the website\n",
    "driver.get(\"https://www.globo.com/\")\n",
    "\n",
    "try:\n",
    "    # Wait for the page to load and find all link elements in the body\n",
    "    links = WebDriverWait(driver, 10).until(EC.presence_of_all_elements_located((By.XPATH, \"//body//a\")))\n",
    "\n",
    "    # Iterate over the links\n",
    "    for link in links:\n",
    "        # If the link text is \"Bolsonaro\", print the href attribute\n",
    "        if \"Bolsonaro\" in link.text:\n",
    "            print(link.get_attribute(\"href\"))\n",
    "except Exception as e:\n",
    "    print(f\"An error occurred: {e}\")\n",
    "finally:\n",
    "    # Close the driver\n",
    "    driver.quit()"
   ]
  },
  {
   "cell_type": "code",
   "execution_count": 8,
   "metadata": {},
   "outputs": [
    {
     "name": "stdout",
     "output_type": "stream",
     "text": [
      "https://noticias.uol.com.br/politica/ultimas-noticias/2024/01/29/pf-aponta-que-assessores-pediam-dados-sobre-acoes-contra-bolsonaros.htm\n",
      "https://noticias.uol.com.br/colunas/aguirre-talento/2024/01/29/apos-passeio-de-lancha-pf-apreende-celular-de-carlos-bolsonaro.htm\n",
      "https://www1.folha.uol.com.br/colunas/monicabergamo/2024/01/querem-me-esculachar-mas-estao-pescando-peixe-em-piscina-diz-bolsonaro.shtml\n",
      "https://noticias.uol.com.br/politica/ultimas-noticias/2024/01/29/bolsonaro-saiu-carlos-pescar-antes-acao-pf-diz-wajngarten.htm\n",
      "https://noticias.uol.com.br/politica/ultimas-noticias/2024/01/29/carlos-e-bolsonaro-sabiam-pf-angra.htm\n",
      "https://noticias.uol.com.br/politica/ultimas-noticias/2024/01/29/tales-reuniao-ministerial-de-2020-desmente-fala-de-bolsonaroemlive.htm\n",
      "https://www1.folha.uol.com.br/colunas/painel/2024/01/pl-mantem-plano-de-dar-a-carlos-bolsonaro-comando-do-partido-no-rio.shtml\n",
      "https://noticias.uol.com.br/politica/ultimas-noticias/2024/01/29/carlos-e-bolsonaro-sabiam-pf-angra.htm\n",
      "https://noticias.uol.com.br/politica/ultimas-noticias/2024/01/29/pf-aponta-que-assessores-pediam-dados-sobre-acoes-contra-bolsonaros.htm\n"
     ]
    }
   ],
   "source": [
    "# https://www.uol.com.br/\n",
    "\n",
    "from selenium import webdriver\n",
    "from selenium.webdriver.common.by import By\n",
    "from selenium.webdriver.support.ui import WebDriverWait\n",
    "from selenium.webdriver.support import expected_conditions as EC\n",
    "\n",
    "# Initialize the Chrome driver\n",
    "driver = webdriver.Chrome()\n",
    "\n",
    "# Open the website\n",
    "driver.get(\"https://www.uol.com.br/\")\n",
    "\n",
    "try:\n",
    "    # Wait for the page to load and find all link elements in the body\n",
    "    links = WebDriverWait(driver, 10).until(EC.presence_of_all_elements_located((By.XPATH, \"//body//a\")))\n",
    "\n",
    "    # Iterate over the links\n",
    "    for link in links:\n",
    "        # If the link text is \"Bolsonaro\", print the href attribute\n",
    "        if \"Bolsonaro\" in link.text:\n",
    "            print(link.get_attribute(\"href\"))\n",
    "except Exception as e:\n",
    "    print(f\"An error occurred: {e}\")\n",
    "finally:\n",
    "    # Close the driver\n",
    "    driver.quit()"
   ]
  },
  {
   "cell_type": "code",
   "execution_count": 9,
   "metadata": {},
   "outputs": [
    {
     "name": "stdout",
     "output_type": "stream",
     "text": [
      "https://www.bbc.com/portuguese/articles/c0d717904v1o\n",
      "https://www.bbc.com/portuguese/articles/cjjxdy14e7zo\n",
      "https://www.bbc.com/portuguese/articles/c0d717904v1o\n"
     ]
    }
   ],
   "source": [
    "# https://www.bbc.com/portuguese\n",
    "\n",
    "from selenium import webdriver\n",
    "from selenium.webdriver.common.by import By\n",
    "from selenium.webdriver.support.ui import WebDriverWait\n",
    "from selenium.webdriver.support import expected_conditions as EC\n",
    "\n",
    "# Initialize the Chrome driver\n",
    "driver = webdriver.Chrome()\n",
    "\n",
    "# Open the website\n",
    "driver.get(\"https://www.bbc.com/portuguese\")\n",
    "\n",
    "try:\n",
    "    # Wait for the page to load and find all link elements in the body\n",
    "    links = WebDriverWait(driver, 10).until(EC.presence_of_all_elements_located((By.XPATH, \"//body//a\")))\n",
    "\n",
    "    # Iterate over the links\n",
    "    for link in links:\n",
    "        # If the link text is \"Bolsonaro\", print the href attribute\n",
    "        if \"Bolsonaro\" in link.text:\n",
    "            print(link.get_attribute(\"href\"))\n",
    "except Exception as e:\n",
    "    print(f\"An error occurred: {e}\")\n",
    "finally:\n",
    "    # Close the driver\n",
    "    driver.quit()"
   ]
  }
 ],
 "metadata": {
  "kernelspec": {
   "display_name": "Python 3",
   "language": "python",
   "name": "python3"
  },
  "language_info": {
   "codemirror_mode": {
    "name": "ipython",
    "version": 3
   },
   "file_extension": ".py",
   "mimetype": "text/x-python",
   "name": "python",
   "nbconvert_exporter": "python",
   "pygments_lexer": "ipython3",
   "version": "3.12.1"
  }
 },
 "nbformat": 4,
 "nbformat_minor": 2
}
