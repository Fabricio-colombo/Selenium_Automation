{
 "cells": [
  {
   "cell_type": "code",
   "execution_count": 1,
   "metadata": {},
   "outputs": [
    {
     "name": "stdout",
     "output_type": "stream",
     "text": [
      "https://www.globo.com/: https://g1.globo.com/politica/blog/julia-duailibi/post/2024/01/29/operacao-carlos-bolsonaro-decisao.ghtml\n",
      "https://www.globo.com/: https://oglobo.globo.com/blogs/bela-megale/post/2024/01/pf-apreende-celular-de-carlos-bolsonaro-e-tres-computadores-na-casa-de-angra.ghtml\n",
      "https://www.globo.com/: https://g1.globo.com/politica/blog/valdo-cruz/post/2024/01/29/operacao-da-pf-pode-provar-o-poder-de-carlos-na-gestao-bolsonaro-e-complicar-situacao-de-ex-presidente.ghtml\n",
      "https://www.globo.com/: https://g1.globo.com/politica/blog/daniela-lima/post/2024/01/29/operacao-da-pf-carlos-bolsonaro-angra.ghtml\n",
      "https://www.globo.com/: https://oglobo.globo.com/politica/noticia/2024/01/29/assessor-diz-que-bolsonaro-teria-saido-para-pescar-com-filhos-antes-de-operacao-da-pf.ghtml\n",
      "https://www.globo.com/: https://g1.globo.com/globonews/globonews-em-ponto/video/sadi-pf-mira-carlos-bolsonaro-pela-suspeita-de-receber-informacoes-da-abin-por-meio-de-assessores-12305943.ghtml?utm_source=globo.com&utm_medium=franja-videos\n",
      "https://www.globo.com/: https://g1.globo.com/politica/video/pf-convida-carlos-bolsonaro-para-depor-12306705.ghtml?utm_source=globo.com&utm_medium=franja-videos\n",
      "https://www.globo.com/: https://g1.globo.com/globonews/globonews-em-ponto/video/carlos-bolsonaro-e-alvo-de-operacao-da-pf-que-investiga-espionagem-ilegal-pela-abin-12305780.ghtml?utm_source=globo.com&utm_medium=franja-videos\n",
      "https://www.globo.com/: https://g1.globo.com/globonews/conexao-globonews/video/pf-faz-buscas-em-casa-de-carlos-bolsonaro-no-rio-de-janeiro-12306175.ghtml?utm_source=globo.com&utm_medium=franja-videos\n",
      "https://www.globo.com/: https://g1.globo.com/politica/blog/daniela-lima/post/2024/01/29/operacao-da-pf-carlos-bolsonaro-angra.ghtml\n",
      "https://www.globo.com/: https://g1.globo.com/politica/blog/daniela-lima/post/2024/01/29/computador-da-abin-e-apreendido-com-carlos-bolsonaro.ghtml\n",
      "https://www.globo.com/: https://g1.globo.com/politica/blog/andreia-sadi/post/2024/01/29/policia-federal-chamara-carlos-bolsonaro-para-depor-sobre-abin-paralela.ghtml\n",
      "https://www.uol.com.br/: https://noticias.uol.com.br/politica/ultimas-noticias/2024/01/29/pf-aponta-que-assessores-pediam-dados-sobre-acoes-contra-bolsonaros.htm\n",
      "https://www.uol.com.br/: https://noticias.uol.com.br/colunas/aguirre-talento/2024/01/29/apos-passeio-de-lancha-pf-apreende-celular-de-carlos-bolsonaro.htm\n",
      "https://www.uol.com.br/: https://www1.folha.uol.com.br/colunas/monicabergamo/2024/01/querem-me-esculachar-mas-estao-pescando-peixe-em-piscina-diz-bolsonaro.shtml\n",
      "https://www.uol.com.br/: https://noticias.uol.com.br/politica/ultimas-noticias/2024/01/29/bolsonaro-saiu-carlos-pescar-antes-acao-pf-diz-wajngarten.htm\n",
      "https://www.uol.com.br/: https://noticias.uol.com.br/politica/ultimas-noticias/2024/01/29/carlos-e-bolsonaro-sabiam-pf-angra.htm\n",
      "https://www.uol.com.br/: https://www1.folha.uol.com.br/colunas/painel/2024/01/pl-mantem-plano-de-dar-a-carlos-bolsonaro-comando-do-partido-no-rio.shtml\n",
      "https://www.uol.com.br/: https://noticias.uol.com.br/politica/ultimas-noticias/2024/01/29/carlos-e-bolsonaro-sabiam-pf-angra.htm\n",
      "https://www.uol.com.br/: https://noticias.uol.com.br/politica/ultimas-noticias/2024/01/29/pf-aponta-que-assessores-pediam-dados-sobre-acoes-contra-bolsonaros.htm\n",
      "https://www.bbc.com/portuguese: https://www.bbc.com/portuguese/articles/c0d717904v1o\n",
      "https://www.bbc.com/portuguese: https://www.bbc.com/portuguese/articles/cjjxdy14e7zo\n",
      "https://www.bbc.com/portuguese: https://www.bbc.com/portuguese/articles/c0d717904v1o\n"
     ]
    }
   ],
   "source": [
    "from selenium import webdriver\n",
    "from selenium.webdriver.common.by import By\n",
    "from selenium.webdriver.support.ui import WebDriverWait\n",
    "from selenium.webdriver.support import expected_conditions as EC\n",
    "\n",
    "# Lista de URLs dos sites\n",
    "sites = [\n",
    "    \"https://www.globo.com/\",\n",
    "    \"https://www.uol.com.br/\",\n",
    "    \"https://www.bbc.com/portuguese\"\n",
    "]\n",
    "\n",
    "# Loop sobre os sites\n",
    "for site in sites:\n",
    "    # Initialize the Chrome driver\n",
    "    driver = webdriver.Chrome()\n",
    "\n",
    "    try:\n",
    "        # Abre o site\n",
    "        driver.get(site)\n",
    "\n",
    "        # Espera a página carregar e encontra todos os elementos de link no corpo\n",
    "        links = WebDriverWait(driver, 10).until(EC.presence_of_all_elements_located((By.XPATH, \"//body//a\")))\n",
    "\n",
    "        # Itera sobre os links\n",
    "        for link in links:\n",
    "            # Se o texto do link contiver \"Bolsonaro\", imprime o atributo href\n",
    "            if \"Bolsonaro\" in link.text:\n",
    "                print(f\"{site}: {link.get_attribute('href')}\")\n",
    "\n",
    "    except Exception as e:\n",
    "        print(f\"An error occurred for {site}: {e}\")\n",
    "    finally:\n",
    "        # Fecha o driver\n",
    "        driver.quit()\n"
   ]
  }
 ],
 "metadata": {
  "kernelspec": {
   "display_name": "Python 3",
   "language": "python",
   "name": "python3"
  },
  "language_info": {
   "codemirror_mode": {
    "name": "ipython",
    "version": 3
   },
   "file_extension": ".py",
   "mimetype": "text/x-python",
   "name": "python",
   "nbconvert_exporter": "python",
   "pygments_lexer": "ipython3",
   "version": "3.12.1"
  }
 },
 "nbformat": 4,
 "nbformat_minor": 2
}
